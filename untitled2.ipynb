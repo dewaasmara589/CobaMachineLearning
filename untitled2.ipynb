{
  "nbformat": 4,
  "nbformat_minor": 0,
  "metadata": {
    "colab": {
      "provenance": [],
      "authorship_tag": "ABX9TyM1TxM9vZMORT5xUmy7GEFu",
      "include_colab_link": true
    },
    "kernelspec": {
      "name": "python3",
      "display_name": "Python 3"
    },
    "language_info": {
      "name": "python"
    }
  },
  "cells": [
    {
      "cell_type": "markdown",
      "metadata": {
        "id": "view-in-github",
        "colab_type": "text"
      },
      "source": [
        "<a href=\"https://colab.research.google.com/github/dewaasmara589/CobaMachineLearning/blob/main/untitled2.ipynb\" target=\"_parent\"><img src=\"https://colab.research.google.com/assets/colab-badge.svg\" alt=\"Open In Colab\"/></a>"
      ]
    },
    {
      "cell_type": "code",
      "execution_count": null,
      "metadata": {
        "colab": {
          "base_uri": "https://localhost:8080/"
        },
        "id": "QPv2JQmIWyxS",
        "outputId": "955c98a7-0dc6-4a3a-974d-dedfed1debd0"
      },
      "outputs": [
        {
          "output_type": "stream",
          "name": "stdout",
          "text": [
            "{'nama': 'Asmara', 'belajar': 'machine learning', 'tahun': 2024, 'colors': ['red', 'white', 'blue']}\n",
            "Key - tahun : 2024\n",
            "Jumlah Data dalam Dictionary : 4\n",
            "{'name': 'Test', 'age': 36, 'country': 'Indonesia'}\n"
          ]
        }
      ],
      "source": [
        "# ~~ Dictionaries ~~~\n",
        "\n",
        "# Catatan: hanya dapat menerima 1 kunci saja tidak dapat duplicate\n",
        "testDict = {'nama' : \"Dewa\", 'nama' : \"Asmara\", 'belajar': \"machine learning\", 'tahun' : 2024, \"colors\": [\"red\", \"white\", \"blue\"]}\n",
        "print(testDict)\n",
        "print('Key - tahun : ' + str(testDict['tahun']))\n",
        "print('Jumlah Data dalam Dictionary : ' + str(len(testDict)))\n",
        "thisdict = dict(name = \"Test\", age = 36, country = \"Indonesia\")\n",
        "print(thisdict)"
      ]
    }
  ]
}